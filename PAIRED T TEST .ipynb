{
  "nbformat": 4,
  "nbformat_minor": 0,
  "metadata": {
    "colab": {
      "provenance": []
    },
    "kernelspec": {
      "name": "python3",
      "display_name": "Python 3"
    },
    "language_info": {
      "name": "python"
    }
  },
  "cells": [
    {
      "cell_type": "code",
      "source": [
        "!pip install xlrd==1.2.0"
      ],
      "metadata": {
        "colab": {
          "base_uri": "https://localhost:8080/"
        },
        "id": "0Jijx84MYcCi",
        "outputId": "5b48363a-5d6b-432b-836c-cfde424abae5"
      },
      "execution_count": null,
      "outputs": [
        {
          "output_type": "stream",
          "name": "stdout",
          "text": [
            "Looking in indexes: https://pypi.org/simple, https://us-python.pkg.dev/colab-wheels/public/simple/\n",
            "Collecting xlrd==1.2.0\n",
            "  Downloading xlrd-1.2.0-py2.py3-none-any.whl (103 kB)\n",
            "\u001b[2K     \u001b[90m━━━━━━━━━━━━━━━━━━━━━━━━━━━━━━━━━━━━━━━\u001b[0m \u001b[32m103.3/103.3 KB\u001b[0m \u001b[31m2.5 MB/s\u001b[0m eta \u001b[36m0:00:00\u001b[0m\n",
            "\u001b[?25hInstalling collected packages: xlrd\n",
            "  Attempting uninstall: xlrd\n",
            "    Found existing installation: xlrd 2.0.1\n",
            "    Uninstalling xlrd-2.0.1:\n",
            "      Successfully uninstalled xlrd-2.0.1\n",
            "Successfully installed xlrd-1.2.0\n"
          ]
        }
      ]
    },
    {
      "cell_type": "code",
      "source": [
        "# Hypothesis testing\n",
        "import pandas as pd\n",
        "from scipy import stats\n",
        "import numpy as np\n",
        "import matplotlib.pyplot as plt \n",
        "from statsmodels.stats.proportion import proportions_ztest # used in proportion test\n",
        "from statsmodels.stats.multicomp import pairwise_tukeyhsd # used in posthoc ANOVA\n",
        "import  statsmodels.formula.api as smf\n",
        "import math"
      ],
      "metadata": {
        "id": "SlVcxya_Yf9u"
      },
      "execution_count": null,
      "outputs": []
    },
    {
      "cell_type": "code",
      "source": [
        "from google.colab import drive\n",
        "drive.mount('/content/drive')"
      ],
      "metadata": {
        "colab": {
          "base_uri": "https://localhost:8080/"
        },
        "id": "sBpT3j9dVxWk",
        "outputId": "90309f4f-940d-46cc-e828-e9b5b3542bf4"
      },
      "execution_count": null,
      "outputs": [
        {
          "output_type": "stream",
          "name": "stdout",
          "text": [
            "Mounted at /content/drive\n"
          ]
        }
      ]
    },
    {
      "cell_type": "markdown",
      "source": [
        "Problem Statement:\n",
        "\n",
        "A physician is evaluating a new diet for her patients with a family history of heart disease. To test the effectiveness of this diet, 16 patients are placed on the diet for 6 months. Their weights and triglyceride levels are measured before and after the study, and the physician wants to know if either set of measurements has changed. Use the data file DietStudy excel. Determine whether there is significant difference between the pre- and post-diet weights and triglyceride levels of these patients"
      ],
      "metadata": {
        "id": "HXTT7SoAGMP6"
      }
    },
    {
      "cell_type": "code",
      "source": [
        "diet=pd.read_excel(\"/content/drive/MyDrive/Paired T test & Decision Tree/DietStudy.xlsx\")\n",
        "diet.head()"
      ],
      "metadata": {
        "id": "JvC65lisCxJt",
        "colab": {
          "base_uri": "https://localhost:8080/",
          "height": 267
        },
        "outputId": "7da0484b-2458-467c-8aec-6190920fcb64"
      },
      "execution_count": null,
      "outputs": [
        {
          "output_type": "execute_result",
          "data": {
            "text/plain": [
              "   Patient ID  Age in years  Gender  Triglyceride  1st interim triglyceride  \\\n",
              "0           1            45       0           180                       148   \n",
              "1           2            56       0           139                        94   \n",
              "2           3            50       0           152                       185   \n",
              "3           4            46       1           112                       145   \n",
              "4           5            64       0           156                       104   \n",
              "\n",
              "   2nd interim triglyceride  3rd interim triglyceride  Final triglyceride  \\\n",
              "0                       106                       113                 100   \n",
              "1                       119                        75                  92   \n",
              "2                        86                       149                 118   \n",
              "3                       136                       149                  82   \n",
              "4                       157                        79                  97   \n",
              "\n",
              "   Weight  1st interim weight  2nd interim weight  3rd interim weight  \\\n",
              "0     198                 196                 193                 188   \n",
              "1     237                 233                 232                 228   \n",
              "2     233                 231                 229                 228   \n",
              "3     179                 181                 177                 174   \n",
              "4     219                 217                 215                 213   \n",
              "\n",
              "   Final weight  \n",
              "0           192  \n",
              "1           225  \n",
              "2           226  \n",
              "3           172  \n",
              "4           214  "
            ],
            "text/html": [
              "\n",
              "  <div id=\"df-05de9d47-9232-4b38-a014-c71f16203246\">\n",
              "    <div class=\"colab-df-container\">\n",
              "      <div>\n",
              "<style scoped>\n",
              "    .dataframe tbody tr th:only-of-type {\n",
              "        vertical-align: middle;\n",
              "    }\n",
              "\n",
              "    .dataframe tbody tr th {\n",
              "        vertical-align: top;\n",
              "    }\n",
              "\n",
              "    .dataframe thead th {\n",
              "        text-align: right;\n",
              "    }\n",
              "</style>\n",
              "<table border=\"1\" class=\"dataframe\">\n",
              "  <thead>\n",
              "    <tr style=\"text-align: right;\">\n",
              "      <th></th>\n",
              "      <th>Patient ID</th>\n",
              "      <th>Age in years</th>\n",
              "      <th>Gender</th>\n",
              "      <th>Triglyceride</th>\n",
              "      <th>1st interim triglyceride</th>\n",
              "      <th>2nd interim triglyceride</th>\n",
              "      <th>3rd interim triglyceride</th>\n",
              "      <th>Final triglyceride</th>\n",
              "      <th>Weight</th>\n",
              "      <th>1st interim weight</th>\n",
              "      <th>2nd interim weight</th>\n",
              "      <th>3rd interim weight</th>\n",
              "      <th>Final weight</th>\n",
              "    </tr>\n",
              "  </thead>\n",
              "  <tbody>\n",
              "    <tr>\n",
              "      <th>0</th>\n",
              "      <td>1</td>\n",
              "      <td>45</td>\n",
              "      <td>0</td>\n",
              "      <td>180</td>\n",
              "      <td>148</td>\n",
              "      <td>106</td>\n",
              "      <td>113</td>\n",
              "      <td>100</td>\n",
              "      <td>198</td>\n",
              "      <td>196</td>\n",
              "      <td>193</td>\n",
              "      <td>188</td>\n",
              "      <td>192</td>\n",
              "    </tr>\n",
              "    <tr>\n",
              "      <th>1</th>\n",
              "      <td>2</td>\n",
              "      <td>56</td>\n",
              "      <td>0</td>\n",
              "      <td>139</td>\n",
              "      <td>94</td>\n",
              "      <td>119</td>\n",
              "      <td>75</td>\n",
              "      <td>92</td>\n",
              "      <td>237</td>\n",
              "      <td>233</td>\n",
              "      <td>232</td>\n",
              "      <td>228</td>\n",
              "      <td>225</td>\n",
              "    </tr>\n",
              "    <tr>\n",
              "      <th>2</th>\n",
              "      <td>3</td>\n",
              "      <td>50</td>\n",
              "      <td>0</td>\n",
              "      <td>152</td>\n",
              "      <td>185</td>\n",
              "      <td>86</td>\n",
              "      <td>149</td>\n",
              "      <td>118</td>\n",
              "      <td>233</td>\n",
              "      <td>231</td>\n",
              "      <td>229</td>\n",
              "      <td>228</td>\n",
              "      <td>226</td>\n",
              "    </tr>\n",
              "    <tr>\n",
              "      <th>3</th>\n",
              "      <td>4</td>\n",
              "      <td>46</td>\n",
              "      <td>1</td>\n",
              "      <td>112</td>\n",
              "      <td>145</td>\n",
              "      <td>136</td>\n",
              "      <td>149</td>\n",
              "      <td>82</td>\n",
              "      <td>179</td>\n",
              "      <td>181</td>\n",
              "      <td>177</td>\n",
              "      <td>174</td>\n",
              "      <td>172</td>\n",
              "    </tr>\n",
              "    <tr>\n",
              "      <th>4</th>\n",
              "      <td>5</td>\n",
              "      <td>64</td>\n",
              "      <td>0</td>\n",
              "      <td>156</td>\n",
              "      <td>104</td>\n",
              "      <td>157</td>\n",
              "      <td>79</td>\n",
              "      <td>97</td>\n",
              "      <td>219</td>\n",
              "      <td>217</td>\n",
              "      <td>215</td>\n",
              "      <td>213</td>\n",
              "      <td>214</td>\n",
              "    </tr>\n",
              "  </tbody>\n",
              "</table>\n",
              "</div>\n",
              "      <button class=\"colab-df-convert\" onclick=\"convertToInteractive('df-05de9d47-9232-4b38-a014-c71f16203246')\"\n",
              "              title=\"Convert this dataframe to an interactive table.\"\n",
              "              style=\"display:none;\">\n",
              "        \n",
              "  <svg xmlns=\"http://www.w3.org/2000/svg\" height=\"24px\"viewBox=\"0 0 24 24\"\n",
              "       width=\"24px\">\n",
              "    <path d=\"M0 0h24v24H0V0z\" fill=\"none\"/>\n",
              "    <path d=\"M18.56 5.44l.94 2.06.94-2.06 2.06-.94-2.06-.94-.94-2.06-.94 2.06-2.06.94zm-11 1L8.5 8.5l.94-2.06 2.06-.94-2.06-.94L8.5 2.5l-.94 2.06-2.06.94zm10 10l.94 2.06.94-2.06 2.06-.94-2.06-.94-.94-2.06-.94 2.06-2.06.94z\"/><path d=\"M17.41 7.96l-1.37-1.37c-.4-.4-.92-.59-1.43-.59-.52 0-1.04.2-1.43.59L10.3 9.45l-7.72 7.72c-.78.78-.78 2.05 0 2.83L4 21.41c.39.39.9.59 1.41.59.51 0 1.02-.2 1.41-.59l7.78-7.78 2.81-2.81c.8-.78.8-2.07 0-2.86zM5.41 20L4 18.59l7.72-7.72 1.47 1.35L5.41 20z\"/>\n",
              "  </svg>\n",
              "      </button>\n",
              "      \n",
              "  <style>\n",
              "    .colab-df-container {\n",
              "      display:flex;\n",
              "      flex-wrap:wrap;\n",
              "      gap: 12px;\n",
              "    }\n",
              "\n",
              "    .colab-df-convert {\n",
              "      background-color: #E8F0FE;\n",
              "      border: none;\n",
              "      border-radius: 50%;\n",
              "      cursor: pointer;\n",
              "      display: none;\n",
              "      fill: #1967D2;\n",
              "      height: 32px;\n",
              "      padding: 0 0 0 0;\n",
              "      width: 32px;\n",
              "    }\n",
              "\n",
              "    .colab-df-convert:hover {\n",
              "      background-color: #E2EBFA;\n",
              "      box-shadow: 0px 1px 2px rgba(60, 64, 67, 0.3), 0px 1px 3px 1px rgba(60, 64, 67, 0.15);\n",
              "      fill: #174EA6;\n",
              "    }\n",
              "\n",
              "    [theme=dark] .colab-df-convert {\n",
              "      background-color: #3B4455;\n",
              "      fill: #D2E3FC;\n",
              "    }\n",
              "\n",
              "    [theme=dark] .colab-df-convert:hover {\n",
              "      background-color: #434B5C;\n",
              "      box-shadow: 0px 1px 3px 1px rgba(0, 0, 0, 0.15);\n",
              "      filter: drop-shadow(0px 1px 2px rgba(0, 0, 0, 0.3));\n",
              "      fill: #FFFFFF;\n",
              "    }\n",
              "  </style>\n",
              "\n",
              "      <script>\n",
              "        const buttonEl =\n",
              "          document.querySelector('#df-05de9d47-9232-4b38-a014-c71f16203246 button.colab-df-convert');\n",
              "        buttonEl.style.display =\n",
              "          google.colab.kernel.accessAllowed ? 'block' : 'none';\n",
              "\n",
              "        async function convertToInteractive(key) {\n",
              "          const element = document.querySelector('#df-05de9d47-9232-4b38-a014-c71f16203246');\n",
              "          const dataTable =\n",
              "            await google.colab.kernel.invokeFunction('convertToInteractive',\n",
              "                                                     [key], {});\n",
              "          if (!dataTable) return;\n",
              "\n",
              "          const docLinkHtml = 'Like what you see? Visit the ' +\n",
              "            '<a target=\"_blank\" href=https://colab.research.google.com/notebooks/data_table.ipynb>data table notebook</a>'\n",
              "            + ' to learn more about interactive tables.';\n",
              "          element.innerHTML = '';\n",
              "          dataTable['output_type'] = 'display_data';\n",
              "          await google.colab.output.renderOutput(dataTable, element);\n",
              "          const docLink = document.createElement('div');\n",
              "          docLink.innerHTML = docLinkHtml;\n",
              "          element.appendChild(docLink);\n",
              "        }\n",
              "      </script>\n",
              "    </div>\n",
              "  </div>\n",
              "  "
            ]
          },
          "metadata": {},
          "execution_count": 5
        }
      ]
    },
    {
      "cell_type": "markdown",
      "source": [
        "**Paired T test**"
      ],
      "metadata": {
        "id": "La7Q0HZuhWoL"
      }
    },
    {
      "cell_type": "markdown",
      "source": [
        "Ho: avg_triglyceride = avg_finaltriglyceride </n>\n",
        "\n",
        "Ha: avg_triglyceride != avg_finaltriglyceride "
      ],
      "metadata": {
        "id": "1i-0aZHWtkgY"
      }
    },
    {
      "cell_type": "code",
      "source": [
        "triglyceride_data=diet[['Triglyceride','Final triglyceride']]\n",
        "triglyceride_data.columns=['Triglyceride',\t'Finaltriglyceride']"
      ],
      "metadata": {
        "id": "p0GyebdQrzIt"
      },
      "execution_count": null,
      "outputs": []
    },
    {
      "cell_type": "code",
      "source": [
        "stats.shapiro(triglyceride_data.Triglyceride)"
      ],
      "metadata": {
        "colab": {
          "base_uri": "https://localhost:8080/"
        },
        "id": "0j7FDVAgrzHw",
        "outputId": "f5fa5ac0-ed89-41d4-b575-7f0543425fd6"
      },
      "execution_count": null,
      "outputs": [
        {
          "output_type": "execute_result",
          "data": {
            "text/plain": [
              "ShapiroResult(statistic=0.933489203453064, pvalue=0.27672305703163147)"
            ]
          },
          "metadata": {},
          "execution_count": 7
        }
      ]
    },
    {
      "cell_type": "code",
      "source": [
        "stats.shapiro(triglyceride_data.Finaltriglyceride)"
      ],
      "metadata": {
        "colab": {
          "base_uri": "https://localhost:8080/"
        },
        "id": "pEFT7QQ5sBjb",
        "outputId": "5d3011d4-cbc6-4a62-8447-96622a47129d"
      },
      "execution_count": null,
      "outputs": [
        {
          "output_type": "execute_result",
          "data": {
            "text/plain": [
              "ShapiroResult(statistic=0.9408126473426819, pvalue=0.35908737778663635)"
            ]
          },
          "metadata": {},
          "execution_count": 12
        }
      ]
    },
    {
      "cell_type": "code",
      "source": [
        "stats.ttest_rel(triglyceride_data.Triglyceride,triglyceride_data.Finaltriglyceride) # paired t test"
      ],
      "metadata": {
        "colab": {
          "base_uri": "https://localhost:8080/"
        },
        "id": "C9AKq4H4hAZk",
        "outputId": "9016089c-f4e6-4ec2-b679-77c55cf2ca64"
      },
      "execution_count": null,
      "outputs": [
        {
          "output_type": "execute_result",
          "data": {
            "text/plain": [
              "TtestResult(statistic=1.2000008533342437, pvalue=0.24874946576903698, df=15)"
            ]
          },
          "metadata": {},
          "execution_count": 13
        }
      ]
    },
    {
      "cell_type": "markdown",
      "source": [
        "Inference: \n",
        "\n",
        "Shapiro p value is high means follows normal distribution.\n",
        "\n",
        " p value high means HO true. Thus there is no significance difference between before and after diet for triglyceride."
      ],
      "metadata": {
        "id": "wgf9bnIPsmC9"
      }
    },
    {
      "cell_type": "markdown",
      "source": [
        "<b> One sample T test </b>"
      ],
      "metadata": {
        "id": "CrDFKJWrOjiX"
      }
    },
    {
      "cell_type": "markdown",
      "source": [
        "Ho: avg_finaltriglyceride - avg_triglyceride = 0 </n>\n",
        " \n",
        "Ha: avg_finaltriglyceride - avg_triglyceride != 0 "
      ],
      "metadata": {
        "id": "xxjAqMNpt_Pe"
      }
    },
    {
      "cell_type": "code",
      "source": [
        "triglyceride_data=diet[['Triglyceride','Final triglyceride']]\n",
        "triglyceride_data['diff_tri']=diet['Final triglyceride']-diet['Triglyceride']\n",
        "triglyceride_data.columns=['Triglyceride',\t'Finaltriglyceride',\t'diff_tri']\n",
        "triglyceride_data"
      ],
      "metadata": {
        "id": "yKtgaRnJMMEa",
        "colab": {
          "base_uri": "https://localhost:8080/",
          "height": 655
        },
        "outputId": "f8f594d1-2220-45b9-a628-eebf1c5a9158"
      },
      "execution_count": null,
      "outputs": [
        {
          "output_type": "stream",
          "name": "stderr",
          "text": [
            "<ipython-input-14-497057bee0fb>:2: SettingWithCopyWarning: \n",
            "A value is trying to be set on a copy of a slice from a DataFrame.\n",
            "Try using .loc[row_indexer,col_indexer] = value instead\n",
            "\n",
            "See the caveats in the documentation: https://pandas.pydata.org/pandas-docs/stable/user_guide/indexing.html#returning-a-view-versus-a-copy\n",
            "  triglyceride_data['diff_tri']=diet['Final triglyceride']-diet['Triglyceride']\n"
          ]
        },
        {
          "output_type": "execute_result",
          "data": {
            "text/plain": [
              "    Triglyceride  Finaltriglyceride  diff_tri\n",
              "0            180                100       -80\n",
              "1            139                 92       -47\n",
              "2            152                118       -34\n",
              "3            112                 82       -30\n",
              "4            156                 97       -59\n",
              "5            167                171         4\n",
              "6            138                132        -6\n",
              "7            160                123       -37\n",
              "8            107                174        67\n",
              "9            156                 92       -64\n",
              "10            94                121        27\n",
              "11           107                150        43\n",
              "12           145                159        14\n",
              "13           186                101       -85\n",
              "14           112                148        36\n",
              "15           104                130        26"
            ],
            "text/html": [
              "\n",
              "  <div id=\"df-4d465c5a-1194-4984-8e37-07f877bf97b4\">\n",
              "    <div class=\"colab-df-container\">\n",
              "      <div>\n",
              "<style scoped>\n",
              "    .dataframe tbody tr th:only-of-type {\n",
              "        vertical-align: middle;\n",
              "    }\n",
              "\n",
              "    .dataframe tbody tr th {\n",
              "        vertical-align: top;\n",
              "    }\n",
              "\n",
              "    .dataframe thead th {\n",
              "        text-align: right;\n",
              "    }\n",
              "</style>\n",
              "<table border=\"1\" class=\"dataframe\">\n",
              "  <thead>\n",
              "    <tr style=\"text-align: right;\">\n",
              "      <th></th>\n",
              "      <th>Triglyceride</th>\n",
              "      <th>Finaltriglyceride</th>\n",
              "      <th>diff_tri</th>\n",
              "    </tr>\n",
              "  </thead>\n",
              "  <tbody>\n",
              "    <tr>\n",
              "      <th>0</th>\n",
              "      <td>180</td>\n",
              "      <td>100</td>\n",
              "      <td>-80</td>\n",
              "    </tr>\n",
              "    <tr>\n",
              "      <th>1</th>\n",
              "      <td>139</td>\n",
              "      <td>92</td>\n",
              "      <td>-47</td>\n",
              "    </tr>\n",
              "    <tr>\n",
              "      <th>2</th>\n",
              "      <td>152</td>\n",
              "      <td>118</td>\n",
              "      <td>-34</td>\n",
              "    </tr>\n",
              "    <tr>\n",
              "      <th>3</th>\n",
              "      <td>112</td>\n",
              "      <td>82</td>\n",
              "      <td>-30</td>\n",
              "    </tr>\n",
              "    <tr>\n",
              "      <th>4</th>\n",
              "      <td>156</td>\n",
              "      <td>97</td>\n",
              "      <td>-59</td>\n",
              "    </tr>\n",
              "    <tr>\n",
              "      <th>5</th>\n",
              "      <td>167</td>\n",
              "      <td>171</td>\n",
              "      <td>4</td>\n",
              "    </tr>\n",
              "    <tr>\n",
              "      <th>6</th>\n",
              "      <td>138</td>\n",
              "      <td>132</td>\n",
              "      <td>-6</td>\n",
              "    </tr>\n",
              "    <tr>\n",
              "      <th>7</th>\n",
              "      <td>160</td>\n",
              "      <td>123</td>\n",
              "      <td>-37</td>\n",
              "    </tr>\n",
              "    <tr>\n",
              "      <th>8</th>\n",
              "      <td>107</td>\n",
              "      <td>174</td>\n",
              "      <td>67</td>\n",
              "    </tr>\n",
              "    <tr>\n",
              "      <th>9</th>\n",
              "      <td>156</td>\n",
              "      <td>92</td>\n",
              "      <td>-64</td>\n",
              "    </tr>\n",
              "    <tr>\n",
              "      <th>10</th>\n",
              "      <td>94</td>\n",
              "      <td>121</td>\n",
              "      <td>27</td>\n",
              "    </tr>\n",
              "    <tr>\n",
              "      <th>11</th>\n",
              "      <td>107</td>\n",
              "      <td>150</td>\n",
              "      <td>43</td>\n",
              "    </tr>\n",
              "    <tr>\n",
              "      <th>12</th>\n",
              "      <td>145</td>\n",
              "      <td>159</td>\n",
              "      <td>14</td>\n",
              "    </tr>\n",
              "    <tr>\n",
              "      <th>13</th>\n",
              "      <td>186</td>\n",
              "      <td>101</td>\n",
              "      <td>-85</td>\n",
              "    </tr>\n",
              "    <tr>\n",
              "      <th>14</th>\n",
              "      <td>112</td>\n",
              "      <td>148</td>\n",
              "      <td>36</td>\n",
              "    </tr>\n",
              "    <tr>\n",
              "      <th>15</th>\n",
              "      <td>104</td>\n",
              "      <td>130</td>\n",
              "      <td>26</td>\n",
              "    </tr>\n",
              "  </tbody>\n",
              "</table>\n",
              "</div>\n",
              "      <button class=\"colab-df-convert\" onclick=\"convertToInteractive('df-4d465c5a-1194-4984-8e37-07f877bf97b4')\"\n",
              "              title=\"Convert this dataframe to an interactive table.\"\n",
              "              style=\"display:none;\">\n",
              "        \n",
              "  <svg xmlns=\"http://www.w3.org/2000/svg\" height=\"24px\"viewBox=\"0 0 24 24\"\n",
              "       width=\"24px\">\n",
              "    <path d=\"M0 0h24v24H0V0z\" fill=\"none\"/>\n",
              "    <path d=\"M18.56 5.44l.94 2.06.94-2.06 2.06-.94-2.06-.94-.94-2.06-.94 2.06-2.06.94zm-11 1L8.5 8.5l.94-2.06 2.06-.94-2.06-.94L8.5 2.5l-.94 2.06-2.06.94zm10 10l.94 2.06.94-2.06 2.06-.94-2.06-.94-.94-2.06-.94 2.06-2.06.94z\"/><path d=\"M17.41 7.96l-1.37-1.37c-.4-.4-.92-.59-1.43-.59-.52 0-1.04.2-1.43.59L10.3 9.45l-7.72 7.72c-.78.78-.78 2.05 0 2.83L4 21.41c.39.39.9.59 1.41.59.51 0 1.02-.2 1.41-.59l7.78-7.78 2.81-2.81c.8-.78.8-2.07 0-2.86zM5.41 20L4 18.59l7.72-7.72 1.47 1.35L5.41 20z\"/>\n",
              "  </svg>\n",
              "      </button>\n",
              "      \n",
              "  <style>\n",
              "    .colab-df-container {\n",
              "      display:flex;\n",
              "      flex-wrap:wrap;\n",
              "      gap: 12px;\n",
              "    }\n",
              "\n",
              "    .colab-df-convert {\n",
              "      background-color: #E8F0FE;\n",
              "      border: none;\n",
              "      border-radius: 50%;\n",
              "      cursor: pointer;\n",
              "      display: none;\n",
              "      fill: #1967D2;\n",
              "      height: 32px;\n",
              "      padding: 0 0 0 0;\n",
              "      width: 32px;\n",
              "    }\n",
              "\n",
              "    .colab-df-convert:hover {\n",
              "      background-color: #E2EBFA;\n",
              "      box-shadow: 0px 1px 2px rgba(60, 64, 67, 0.3), 0px 1px 3px 1px rgba(60, 64, 67, 0.15);\n",
              "      fill: #174EA6;\n",
              "    }\n",
              "\n",
              "    [theme=dark] .colab-df-convert {\n",
              "      background-color: #3B4455;\n",
              "      fill: #D2E3FC;\n",
              "    }\n",
              "\n",
              "    [theme=dark] .colab-df-convert:hover {\n",
              "      background-color: #434B5C;\n",
              "      box-shadow: 0px 1px 3px 1px rgba(0, 0, 0, 0.15);\n",
              "      filter: drop-shadow(0px 1px 2px rgba(0, 0, 0, 0.3));\n",
              "      fill: #FFFFFF;\n",
              "    }\n",
              "  </style>\n",
              "\n",
              "      <script>\n",
              "        const buttonEl =\n",
              "          document.querySelector('#df-4d465c5a-1194-4984-8e37-07f877bf97b4 button.colab-df-convert');\n",
              "        buttonEl.style.display =\n",
              "          google.colab.kernel.accessAllowed ? 'block' : 'none';\n",
              "\n",
              "        async function convertToInteractive(key) {\n",
              "          const element = document.querySelector('#df-4d465c5a-1194-4984-8e37-07f877bf97b4');\n",
              "          const dataTable =\n",
              "            await google.colab.kernel.invokeFunction('convertToInteractive',\n",
              "                                                     [key], {});\n",
              "          if (!dataTable) return;\n",
              "\n",
              "          const docLinkHtml = 'Like what you see? Visit the ' +\n",
              "            '<a target=\"_blank\" href=https://colab.research.google.com/notebooks/data_table.ipynb>data table notebook</a>'\n",
              "            + ' to learn more about interactive tables.';\n",
              "          element.innerHTML = '';\n",
              "          dataTable['output_type'] = 'display_data';\n",
              "          await google.colab.output.renderOutput(dataTable, element);\n",
              "          const docLink = document.createElement('div');\n",
              "          docLink.innerHTML = docLinkHtml;\n",
              "          element.appendChild(docLink);\n",
              "        }\n",
              "      </script>\n",
              "    </div>\n",
              "  </div>\n",
              "  "
            ]
          },
          "metadata": {},
          "execution_count": 14
        }
      ]
    },
    {
      "cell_type": "code",
      "source": [
        "triglyceride_data.diff_tri"
      ],
      "metadata": {
        "colab": {
          "base_uri": "https://localhost:8080/"
        },
        "id": "PQkInv6fSS82",
        "outputId": "d02cc37b-7f7b-44f4-da40-6a3ab8107ea6"
      },
      "execution_count": null,
      "outputs": [
        {
          "output_type": "execute_result",
          "data": {
            "text/plain": [
              "0    -80\n",
              "1    -47\n",
              "2    -34\n",
              "3    -30\n",
              "4    -59\n",
              "5      4\n",
              "6     -6\n",
              "7    -37\n",
              "8     67\n",
              "9    -64\n",
              "10    27\n",
              "11    43\n",
              "12    14\n",
              "13   -85\n",
              "14    36\n",
              "15    26\n",
              "Name: diff_tri, dtype: int64"
            ]
          },
          "metadata": {},
          "execution_count": 15
        }
      ]
    },
    {
      "cell_type": "code",
      "source": [
        "stats.shapiro(triglyceride_data.diff_tri)"
      ],
      "metadata": {
        "colab": {
          "base_uri": "https://localhost:8080/"
        },
        "id": "tX6bC1SfXS0Z",
        "outputId": "db230347-f9eb-404b-c086-1479d7f35f94"
      },
      "execution_count": null,
      "outputs": [
        {
          "output_type": "execute_result",
          "data": {
            "text/plain": [
              "ShapiroResult(statistic=0.9572919011116028, pvalue=0.6130363345146179)"
            ]
          },
          "metadata": {},
          "execution_count": 16
        }
      ]
    },
    {
      "cell_type": "code",
      "source": [
        "stats.ttest_1samp(triglyceride_data.diff_tri,0, nan_policy='omit')# One-sample t-test\n"
      ],
      "metadata": {
        "colab": {
          "base_uri": "https://localhost:8080/"
        },
        "id": "uE5fbDBwQz-2",
        "outputId": "d7f58e85-cd39-4225-d62d-dcaa5f76aecb"
      },
      "execution_count": null,
      "outputs": [
        {
          "output_type": "execute_result",
          "data": {
            "text/plain": [
              "TtestResult(statistic=-1.2000008533342437, pvalue=0.24874946576903698, df=15)"
            ]
          },
          "metadata": {},
          "execution_count": 17
        }
      ]
    },
    {
      "cell_type": "markdown",
      "source": [
        "Inference: \n",
        "\n",
        "Shapiro p value high means follows normal distribution.\n",
        "\n",
        "\n",
        "p-value high means HO true. Thus there is no significance difference between before and after diet for triglyceride."
      ],
      "metadata": {
        "id": "p5H3pUOjXjGM"
      }
    }
  ]
}